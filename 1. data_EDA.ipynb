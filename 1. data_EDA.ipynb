import os
import pandas as pd

def load_csv_files(folder_path):
    """
    Load all CSV files in a folder and its subfolders into a Pandas DataFrame.

    Parameters:
    - folder_path (str): The path to the folder containing CSV files.

    Returns:
    - df (pd.DataFrame): A DataFrame containing the concatenated data from all CSV files.
    """

    # Initialize an empty DataFrame to store the data
    df = pd.DataFrame()

    # Iterate through the root folder and its subfolders
    for root, dirs, files in os.walk(folder_path):
        for file in files:
            # Check if the file has a CSV extension
            if file.endswith(".csv"):
                # Create the full path to the CSV file
                file_path = os.path.join(root, file)
                
                # Load the CSV file into a DataFrame
                csv_data = pd.read_csv(file_path)
                
                # Concatenate the data to the main DataFrame
                df = pd.concat([df, csv_data], ignore_index=True)

    return df

# Example usage:
folder_path = '/path/to/your/folder'
result_df = load_csv_files(folder_path)
